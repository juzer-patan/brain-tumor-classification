{
 "cells": [
  {
   "cell_type": "code",
   "execution_count": 1,
   "metadata": {
    "_cell_guid": "b1076dfc-b9ad-4769-8c92-a6c4dae69d19",
    "_uuid": "8f2839f25d086af736a60e9eeb907d3b93b6e0e5",
    "execution": {
     "iopub.execute_input": "2022-02-01T11:30:34.670556Z",
     "iopub.status.busy": "2022-02-01T11:30:34.670176Z",
     "iopub.status.idle": "2022-02-01T11:30:35.837765Z",
     "shell.execute_reply": "2022-02-01T11:30:35.833628Z",
     "shell.execute_reply.started": "2022-02-01T11:30:34.670455Z"
    }
   },
   "outputs": [],
   "source": [
    "# This Python 3 environment comes with many helpful analytics libraries installed\n",
    "# It is defined by the kaggle/python Docker image: https://github.com/kaggle/docker-python\n",
    "# For example, here's several helpful packages to load\n",
    "\n",
    "import numpy as np # linear algebra\n",
    "import pandas as pd # data processing, CSV file I/O (e.g. pd.read_csv)\n",
    "\n",
    "# Input data files are available in the read-only \"../input/\" directory\n",
    "# For example, running this (by clicking run or pressing Shift+Enter) will list all files under the input directory\n",
    "\n",
    "import os\n",
    "for dirname, _, filenames in os.walk('/kaggle/input'):\n",
    "    for filename in filenames:\n",
    "        print(os.path.join(dirname, filename))\n",
    "\n",
    "# You can write up to 20GB to the current directory (/kaggle/working/) that gets preserved as output when you create a version using \"Save & Run All\" \n",
    "# You can also write temporary files to /kaggle/temp/, but they won't be saved outside of the current session"
   ]
  },
  {
   "cell_type": "code",
   "execution_count": 2,
   "metadata": {
    "execution": {
     "iopub.execute_input": "2022-02-01T11:31:04.426310Z",
     "iopub.status.busy": "2022-02-01T11:31:04.425987Z",
     "iopub.status.idle": "2022-02-01T11:31:04.430639Z",
     "shell.execute_reply": "2022-02-01T11:31:04.429682Z",
     "shell.execute_reply.started": "2022-02-01T11:31:04.426275Z"
    }
   },
   "outputs": [],
   "source": [
    "train_dir=\"../input/brain-tumor-classification-mri/Training\"\n",
    "test_dir=\"../input/brain-tumor-classification-mri/Testing\"\n"
   ]
  },
  {
   "cell_type": "code",
   "execution_count": 3,
   "metadata": {
    "execution": {
     "iopub.execute_input": "2022-02-01T11:31:06.261304Z",
     "iopub.status.busy": "2022-02-01T11:31:06.260346Z",
     "iopub.status.idle": "2022-02-01T11:31:10.896206Z",
     "shell.execute_reply": "2022-02-01T11:31:10.895202Z",
     "shell.execute_reply.started": "2022-02-01T11:31:06.261250Z"
    }
   },
   "outputs": [],
   "source": [
    "import cv2\n",
    "import os\n",
    "# Image preprocessing For No Tumor\n",
    "no_tumor_dir=\"../input/brain-tumor-classification-mri/Training/no_tumor\"\n",
    "images=[x for x in os.listdir(no_tumor_dir)]\n",
    "for i in images:\n",
    "    img=cv2.imread(no_tumor_dir+\"/\"+i)\n",
    "    scale_percent = 60 # percent of original size\n",
    "    width = int(img.shape[1] * scale_percent / 100)\n",
    "    height = int(img.shape[0] * scale_percent / 100)\n",
    "    dim = (width, height)\n",
    "    resized = cv2.resize(img, dim, interpolation = cv2.INTER_AREA)\n",
    "    cv2.imwrite(no_tumor_dir+\"/\"+\"aug\"+i,resized)\n",
    "    \n",
    "    \n",
    "    "
   ]
  },
  {
   "cell_type": "code",
   "execution_count": 4,
   "metadata": {
    "execution": {
     "iopub.execute_input": "2022-02-01T11:31:16.580665Z",
     "iopub.status.busy": "2022-02-01T11:31:16.579746Z",
     "iopub.status.idle": "2022-02-01T11:31:24.454772Z",
     "shell.execute_reply": "2022-02-01T11:31:24.453808Z",
     "shell.execute_reply.started": "2022-02-01T11:31:16.580580Z"
    }
   },
   "outputs": [],
   "source": [
    "import os\n",
    "import numpy as np\n",
    "import pandas as pd\n",
    "import seaborn as sns\n",
    "import matplotlib.pyplot as plt\n",
    "%matplotlib inline\n",
    "import cv2\n",
    "from tqdm import tqdm\n",
    "from PIL import Image\n",
    "import io\n",
    "\n",
    "import tensorflow as tf\n",
    "from tensorflow.keras.preprocessing.image import ImageDataGenerator\n",
    "from sklearn.utils import shuffle\n",
    "from sklearn.model_selection import train_test_split\n",
    "from tensorflow.keras.applications import EfficientNetB2\n",
    "from keras.layers import GlobalAveragePooling2D, Dropout, Dense\n",
    "from keras.models import Model\n",
    "from tensorflow.keras.callbacks import EarlyStopping, ReduceLROnPlateau, TensorBoard, ModelCheckpoint\n",
    "from sklearn.metrics import classification_report, confusion_matrix\n",
    "from IPython.display import display, clear_output\n",
    "import ipywidgets as widgets\n"
   ]
  },
  {
   "cell_type": "code",
   "execution_count": 5,
   "metadata": {
    "execution": {
     "iopub.execute_input": "2022-02-01T11:31:24.456830Z",
     "iopub.status.busy": "2022-02-01T11:31:24.456529Z",
     "iopub.status.idle": "2022-02-01T11:31:55.104244Z",
     "shell.execute_reply": "2022-02-01T11:31:55.103034Z",
     "shell.execute_reply.started": "2022-02-01T11:31:24.456796Z"
    }
   },
   "outputs": [],
   "source": [
    "labels = ['glioma_tumor','no_tumor','meningioma_tumor','pituitary_tumor']\n",
    "X_train = []\n",
    "y_train = []\n",
    "image_size = 224\n",
    "for i in labels:\n",
    "    folderPath = os.path.join('../input/brain-tumor-classification-mri','Training',i)\n",
    "    for j in tqdm(os.listdir(folderPath)):\n",
    "        img = cv2.imread(os.path.join(folderPath,j))\n",
    "        img = cv2.resize(img,(image_size, image_size))\n",
    "        X_train.append(img)\n",
    "        y_train.append(i)\n",
    "        \n",
    "for i in labels:\n",
    "    folderPath = os.path.join('../input/brain-tumor-classification-mri','Testing',i)\n",
    "    for j in tqdm(os.listdir(folderPath)):\n",
    "        img = cv2.imread(os.path.join(folderPath,j))\n",
    "        img = cv2.resize(img,(image_size,image_size))\n",
    "        X_train.append(img)\n",
    "        y_train.append(i)\n",
    "        \n",
    "X_train = np.array(X_train)\n",
    "y_train = np.array(y_train)"
   ]
  },
  {
   "cell_type": "code",
   "execution_count": 6,
   "metadata": {
    "execution": {
     "iopub.execute_input": "2022-02-01T11:31:59.392048Z",
     "iopub.status.busy": "2022-02-01T11:31:59.391703Z",
     "iopub.status.idle": "2022-02-01T11:31:59.555676Z",
     "shell.execute_reply": "2022-02-01T11:31:59.554647Z",
     "shell.execute_reply.started": "2022-02-01T11:31:59.392009Z"
    }
   },
   "outputs": [],
   "source": [
    "X_train,X_test,y_train,y_test = train_test_split(X_train,y_train, test_size=0.1,random_state=101)"
   ]
  },
  {
   "cell_type": "code",
   "execution_count": 9,
   "metadata": {
    "execution": {
     "iopub.execute_input": "2022-02-01T11:33:52.803706Z",
     "iopub.status.busy": "2022-02-01T11:33:52.802576Z",
     "iopub.status.idle": "2022-02-01T11:33:53.244035Z",
     "shell.execute_reply": "2022-02-01T11:33:53.243054Z",
     "shell.execute_reply.started": "2022-02-01T11:33:52.803655Z"
    }
   },
   "outputs": [],
   "source": [
    "from keras.preprocessing.image import ImageDataGenerator\n",
    "trainDataGen=ImageDataGenerator(\n",
    "    rescale=1./255,\n",
    "    validation_split=0.1,\n",
    "    zoom_range=0.2,\n",
    "    \n",
    "    \n",
    ")\n",
    "testDataGen=ImageDataGenerator(rescale=1./255)\n",
    "\n",
    "trainGen=trainDataGen.flow_from_directory(train_dir,\n",
    "                                          target_size=(224,224),\n",
    "                                          color_mode='rgb',\n",
    "                                          class_mode='categorical',\n",
    "                                          batch_size=128,\n",
    "                                          subset='training'\n",
    "                                         )\n",
    "testGen=testDataGen.flow_from_directory(test_dir, target_size=(224,224),color_mode='rgb',class_mode='categorical',batch_size=1)\n",
    "\n",
    "valGen=trainDataGen.flow_from_directory(train_dir, target_size=(224,224),color_mode='rgb',class_mode='categorical',batch_size=128,subset='validation')\n",
    "\n",
    "\n"
   ]
  },
  {
   "cell_type": "code",
   "execution_count": 10,
   "metadata": {
    "execution": {
     "iopub.execute_input": "2022-02-01T11:33:56.693214Z",
     "iopub.status.busy": "2022-02-01T11:33:56.692640Z",
     "iopub.status.idle": "2022-02-01T11:34:17.025538Z",
     "shell.execute_reply": "2022-02-01T11:34:17.024127Z",
     "shell.execute_reply.started": "2022-02-01T11:33:56.693147Z"
    }
   },
   "outputs": [],
   "source": [
    "from keras.models import Model\n",
    "from keras.layers.core import Flatten, Dense, Dropout\n",
    "from keras.layers import Conv2D, MaxPooling2D,Input,AveragePooling2D\n",
    "from keras.applications.vgg16 import VGG16\n",
    "\n",
    "base_model=VGG16(input_shape=(224,224,3),include_top=False,weights='imagenet')\n",
    "\n",
    "x=Flatten()(base_model.output)\n",
    "x=Dense(1024,activation='relu')(x)\n",
    "x=Dropout(0.4)(x)\n",
    "x=Dense(1024,activation='relu')(x)\n",
    "out=Dense(4,activation='softmax')(x)\n",
    "\n",
    "model=Model(inputs=base_model.inputs,outputs=out)\n",
    "for layer in model.layers[:22]:\n",
    "  layer.trainable=False\n",
    "\n",
    "for layer in model.layers:\n",
    "  print(layer.name,\" \",layer.trainable)\n",
    "model.summary()\n"
   ]
  },
  {
   "cell_type": "code",
   "execution_count": null,
   "metadata": {
    "execution": {
     "iopub.execute_input": "2022-01-17T15:59:28.759059Z",
     "iopub.status.busy": "2022-01-17T15:59:28.758768Z",
     "iopub.status.idle": "2022-01-17T15:59:28.768746Z",
     "shell.execute_reply": "2022-01-17T15:59:28.76806Z",
     "shell.execute_reply.started": "2022-01-17T15:59:28.759021Z"
    }
   },
   "outputs": [],
   "source": [
    "from keras.callbacks import EarlyStopping, ModelCheckpoint\n",
    "\n",
    "callbacks=[EarlyStopping(monitor='val_loss',patience=10), ModelCheckpoint(filepath=\"best_model.h5\",monitor='val_loss',save_best_only=True)]\n",
    "\n",
    "\n",
    "model.compile(loss=\"categorical_crossentropy\",optimizer=\"Adam\",metrics=[\"accuracy\"])"
   ]
  },
  {
   "cell_type": "code",
   "execution_count": null,
   "metadata": {
    "execution": {
     "iopub.execute_input": "2022-01-17T15:59:28.772519Z",
     "iopub.status.busy": "2022-01-17T15:59:28.772037Z",
     "iopub.status.idle": "2022-01-17T15:59:28.778791Z",
     "shell.execute_reply": "2022-01-17T15:59:28.778056Z",
     "shell.execute_reply.started": "2022-01-17T15:59:28.772482Z"
    }
   },
   "outputs": [],
   "source": [
    "steps_per_epochs=trainGen.samples//128\n",
    "print(steps_per_epochs)\n",
    "validation_steps_=valGen.samples//128\n",
    "print(validation_steps_)\n"
   ]
  },
  {
   "cell_type": "code",
   "execution_count": null,
   "metadata": {
    "execution": {
     "iopub.execute_input": "2022-01-17T15:59:28.780917Z",
     "iopub.status.busy": "2022-01-17T15:59:28.780274Z",
     "iopub.status.idle": "2022-01-17T16:26:19.467967Z",
     "shell.execute_reply": "2022-01-17T16:26:19.467254Z",
     "shell.execute_reply.started": "2022-01-17T15:59:28.780748Z"
    }
   },
   "outputs": [],
   "source": [
    "history=model.fit(trainGen,steps_per_epoch=steps_per_epochs,validation_data=valGen,epochs=50,validation_steps=validation_steps_,callbacks=callbacks)"
   ]
  },
  {
   "cell_type": "code",
   "execution_count": null,
   "metadata": {
    "execution": {
     "iopub.execute_input": "2022-01-17T16:26:19.470339Z",
     "iopub.status.busy": "2022-01-17T16:26:19.470086Z",
     "iopub.status.idle": "2022-01-17T16:26:19.815767Z",
     "shell.execute_reply": "2022-01-17T16:26:19.815103Z",
     "shell.execute_reply.started": "2022-01-17T16:26:19.470304Z"
    }
   },
   "outputs": [],
   "source": [
    "import matplotlib.pyplot as plt\n",
    "acc = history.history['accuracy']\n",
    "val_acc = history.history['val_accuracy']\n",
    "\n",
    "loss = history.history['loss']\n",
    "val_loss = history.history['val_loss']\n",
    "\n",
    "epochs_range = range(len(history.history['accuracy']))\n",
    "\n",
    "plt.figure(figsize=(18, 6))\n",
    "plt.subplot(1, 2, 1)\n",
    "plt.plot(range(len(history.history['accuracy'])), acc, label='Training Accuracy')\n",
    "plt.plot(epochs_range, val_acc, label='Validation Accuracy')\n",
    "plt.legend(loc='upper right')\n",
    "plt.title('Training and Validation Accuracy')\n",
    "\n",
    "plt.subplot(1, 2, 2)\n",
    "plt.plot(epochs_range, loss, label='Training Loss')\n",
    "plt.plot(epochs_range, val_loss, label='Validation Loss')\n",
    "plt.legend(loc='upper right')\n",
    "plt.title('Training and Validation Loss')\n",
    "plt.show()"
   ]
  },
  {
   "cell_type": "markdown",
   "metadata": {},
   "source": [
    "# Evaluation befor tuning"
   ]
  },
  {
   "cell_type": "code",
   "execution_count": null,
   "metadata": {
    "execution": {
     "iopub.execute_input": "2022-01-17T16:36:07.995697Z",
     "iopub.status.busy": "2022-01-17T16:36:07.995432Z",
     "iopub.status.idle": "2022-01-17T16:36:08.006345Z",
     "shell.execute_reply": "2022-01-17T16:36:08.005321Z",
     "shell.execute_reply.started": "2022-01-17T16:36:07.995668Z"
    }
   },
   "outputs": [],
   "source": [
    "y_train_new = []\n",
    "for i in y_train:\n",
    "    y_train_new.append(labels.index(i))\n",
    "y_train = y_train_new\n",
    "y_train = tf.keras.utils.to_categorical(y_train)\n",
    "\n",
    "\n",
    "y_test_new = []\n",
    "for i in y_test:\n",
    "    y_test_new.append(labels.index(i))\n",
    "y_test = y_test_new\n",
    "y_test = tf.keras.utils.to_categorical(y_test)"
   ]
  },
  {
   "cell_type": "code",
   "execution_count": null,
   "metadata": {},
   "outputs": [],
   "source": [
    "pred = model.predict(X_test)\n",
    "pred = np.argmax(pred,axis=1)\n",
    "y_test_new = np.argmax(y_test,axis=1)"
   ]
  },
  {
   "cell_type": "code",
   "execution_count": null,
   "metadata": {
    "execution": {
     "iopub.execute_input": "2022-01-17T16:36:20.314924Z",
     "iopub.status.busy": "2022-01-17T16:36:20.314635Z",
     "iopub.status.idle": "2022-01-17T16:36:20.32816Z",
     "shell.execute_reply": "2022-01-17T16:36:20.326484Z",
     "shell.execute_reply.started": "2022-01-17T16:36:20.314889Z"
    }
   },
   "outputs": [],
   "source": [
    "print(classification_report(y_test_new,pred))"
   ]
  },
  {
   "cell_type": "code",
   "execution_count": null,
   "metadata": {
    "execution": {
     "iopub.execute_input": "2022-01-17T16:36:33.714572Z",
     "iopub.status.busy": "2022-01-17T16:36:33.714045Z",
     "iopub.status.idle": "2022-01-17T16:36:33.894012Z",
     "shell.execute_reply": "2022-01-17T16:36:33.893231Z",
     "shell.execute_reply.started": "2022-01-17T16:36:33.714534Z"
    }
   },
   "outputs": [],
   "source": [
    "import seaborn as sns\n",
    "colors_dark = [\"#1F1F1F\", \"#313131\", '#636363', '#AEAEAE', '#DADADA']\n",
    "colors_red = [\"#331313\", \"#582626\", '#9E1717', '#D35151', '#E9B4B4']\n",
    "colors_green = ['#01411C','#4B6F44','#4F7942','#74C365','#D0F0C0']\n",
    "\n",
    "sns.palplot(colors_dark)\n",
    "sns.palplot(colors_green)\n",
    "sns.palplot(colors_red)"
   ]
  },
  {
   "cell_type": "code",
   "execution_count": null,
   "metadata": {
    "execution": {
     "iopub.execute_input": "2022-01-17T16:36:33.89605Z",
     "iopub.status.busy": "2022-01-17T16:36:33.895773Z",
     "iopub.status.idle": "2022-01-17T16:36:34.183468Z",
     "shell.execute_reply": "2022-01-17T16:36:34.182722Z",
     "shell.execute_reply.started": "2022-01-17T16:36:33.896016Z"
    }
   },
   "outputs": [],
   "source": [
    "fig,ax=plt.subplots(1,1,figsize=(14,7))\n",
    "sns.heatmap(confusion_matrix(y_test_new,pred),ax=ax,xticklabels=labels,yticklabels=labels,annot=True,\n",
    "           cmap=colors_green[::-1],alpha=0.7,linewidths=2,linecolor=colors_dark[3])\n",
    "fig.text(s='Heatmap of the Confusion Matrix',size=18,fontweight='bold',\n",
    "             fontname='monospace',color=colors_dark[1],y=0.92,x=0.28,alpha=0.8)\n",
    "\n",
    "plt.show()"
   ]
  },
  {
   "cell_type": "markdown",
   "metadata": {},
   "source": [
    "# Tunning the model"
   ]
  },
  {
   "cell_type": "code",
   "execution_count": null,
   "metadata": {
    "execution": {
     "iopub.execute_input": "2022-01-17T16:36:34.185488Z",
     "iopub.status.busy": "2022-01-17T16:36:34.184958Z",
     "iopub.status.idle": "2022-01-17T16:36:34.193787Z",
     "shell.execute_reply": "2022-01-17T16:36:34.192934Z",
     "shell.execute_reply.started": "2022-01-17T16:36:34.185447Z"
    }
   },
   "outputs": [],
   "source": [
    "train_dir = \"../input/brain-tumor-classification-mri/Training\"\n",
    "test_dir = \"../input/brain-tumor-classification-mri/Testing\""
   ]
  },
  {
   "cell_type": "code",
   "execution_count": null,
   "metadata": {
    "execution": {
     "iopub.execute_input": "2022-01-17T16:36:34.202182Z",
     "iopub.status.busy": "2022-01-17T16:36:34.197266Z",
     "iopub.status.idle": "2022-01-17T16:36:34.883495Z",
     "shell.execute_reply": "2022-01-17T16:36:34.882773Z",
     "shell.execute_reply.started": "2022-01-17T16:36:34.202136Z"
    }
   },
   "outputs": [],
   "source": [
    "import tensorflow as tf\n",
    "\n",
    "train_data = tf.keras.preprocessing.image_dataset_from_directory(train_dir,\n",
    "                                                                 image_size=(224,224),\n",
    "                                                                 label_mode = \"categorical\",\n",
    "                                                                 batch_size = 32\n",
    "                                                                 )\n",
    "test_data =tf.keras.preprocessing.image_dataset_from_directory(test_dir,\n",
    "                                                               image_size =(224,224),\n",
    "                                                               label_mode = \"categorical\",\n",
    "                                                               batch_size = 32\n",
    "                                                               )"
   ]
  },
  {
   "cell_type": "code",
   "execution_count": null,
   "metadata": {
    "execution": {
     "iopub.execute_input": "2022-01-17T16:36:34.889397Z",
     "iopub.status.busy": "2022-01-17T16:36:34.887496Z",
     "iopub.status.idle": "2022-01-17T16:36:34.92059Z",
     "shell.execute_reply": "2022-01-17T16:36:34.919976Z",
     "shell.execute_reply.started": "2022-01-17T16:36:34.889355Z"
    }
   },
   "outputs": [],
   "source": [
    "# tunning the model\n",
    "base_model.trainable = True\n",
    "import tensorflow as tf\n",
    "for layer in base_model.layers[:-1]:\n",
    "  base_model.trainable = False\n",
    "\n",
    "model.compile(\n",
    "    loss = tf.keras.losses.categorical_crossentropy,\n",
    "    optimizer = tf.keras.optimizers.Adam(learning_rate= 0.001),\n",
    "    metrics = [\"accuracy\"]\n",
    ")\n"
   ]
  },
  {
   "cell_type": "code",
   "execution_count": null,
   "metadata": {
    "execution": {
     "iopub.execute_input": "2022-01-17T16:36:34.926288Z",
     "iopub.status.busy": "2022-01-17T16:36:34.924434Z",
     "iopub.status.idle": "2022-01-17T16:38:08.997911Z",
     "shell.execute_reply": "2022-01-17T16:38:08.996799Z",
     "shell.execute_reply.started": "2022-01-17T16:36:34.92625Z"
    }
   },
   "outputs": [],
   "source": [
    "# fitting data to the tuned model\n",
    "\n",
    "h_t=model.fit(train_data,\n",
    "          epochs = 10,\n",
    "          steps_per_epoch = len(train_data),\n",
    "          validation_data = test_data,\n",
    "          validation_steps = len(test_data)\n",
    "          )"
   ]
  },
  {
   "cell_type": "markdown",
   "metadata": {},
   "source": [
    "# Evaluation after tuning"
   ]
  },
  {
   "cell_type": "code",
   "execution_count": null,
   "metadata": {
    "execution": {
     "iopub.execute_input": "2022-01-17T16:38:08.999618Z",
     "iopub.status.busy": "2022-01-17T16:38:08.999352Z",
     "iopub.status.idle": "2022-01-17T16:38:10.630005Z",
     "shell.execute_reply": "2022-01-17T16:38:10.629323Z",
     "shell.execute_reply.started": "2022-01-17T16:38:08.999582Z"
    }
   },
   "outputs": [],
   "source": [
    "# evaluatinn the model\n",
    "model_evaluation = model.evaluate(test_data)"
   ]
  },
  {
   "cell_type": "code",
   "execution_count": null,
   "metadata": {
    "execution": {
     "iopub.execute_input": "2022-01-17T16:38:10.634625Z",
     "iopub.status.busy": "2022-01-17T16:38:10.634082Z",
     "iopub.status.idle": "2022-01-17T16:38:10.642618Z",
     "shell.execute_reply": "2022-01-17T16:38:10.641863Z",
     "shell.execute_reply.started": "2022-01-17T16:38:10.634586Z"
    }
   },
   "outputs": [],
   "source": [
    "print(f\"Model Accuracy:{model_evaluation[1] *100: 0.2f} %\")"
   ]
  },
  {
   "cell_type": "code",
   "execution_count": null,
   "metadata": {
    "execution": {
     "iopub.execute_input": "2022-01-17T16:38:10.645177Z",
     "iopub.status.busy": "2022-01-17T16:38:10.644311Z",
     "iopub.status.idle": "2022-01-17T16:38:11.188562Z",
     "shell.execute_reply": "2022-01-17T16:38:11.187825Z",
     "shell.execute_reply.started": "2022-01-17T16:38:10.64514Z"
    }
   },
   "outputs": [],
   "source": [
    "# Plot the loss and accuracy curves for training and validation \n",
    "fig, ax = plt.subplots(2,1)\n",
    "ax[0].plot(h_t.history['loss'], color='b', label=\"Training loss\")\n",
    "ax[0].plot(h_t.history['val_loss'], color='r', label=\"validation loss\",axes =ax[0])\n",
    "legend = ax[0].legend(loc='best', shadow=True)\n",
    "\n",
    "ax[1].plot(h_t.history['accuracy'], color='b', label=\"Training accuracy\")\n",
    "ax[1].plot(h_t.history['val_accuracy'], color='r',label=\"Validation accuracy\")\n",
    "legend = ax[1].legend(loc='best', shadow=True)"
   ]
  },
  {
   "cell_type": "code",
   "execution_count": null,
   "metadata": {
    "execution": {
     "iopub.execute_input": "2022-01-17T16:38:11.19639Z",
     "iopub.status.busy": "2022-01-17T16:38:11.19415Z",
     "iopub.status.idle": "2022-01-17T16:38:12.002249Z",
     "shell.execute_reply": "2022-01-17T16:38:12.001381Z",
     "shell.execute_reply.started": "2022-01-17T16:38:11.19635Z"
    }
   },
   "outputs": [],
   "source": [
    "pred = model.predict(X_test)\n",
    "pred = np.argmax(pred,axis=1)\n",
    "y_test_new = np.argmax(y_test,axis=1)"
   ]
  },
  {
   "cell_type": "code",
   "execution_count": null,
   "metadata": {
    "execution": {
     "iopub.execute_input": "2022-01-17T16:38:12.003809Z",
     "iopub.status.busy": "2022-01-17T16:38:12.003553Z",
     "iopub.status.idle": "2022-01-17T16:38:12.016586Z",
     "shell.execute_reply": "2022-01-17T16:38:12.015582Z",
     "shell.execute_reply.started": "2022-01-17T16:38:12.003774Z"
    }
   },
   "outputs": [],
   "source": [
    "print(classification_report(y_test_new,pred))"
   ]
  },
  {
   "cell_type": "code",
   "execution_count": null,
   "metadata": {
    "execution": {
     "iopub.execute_input": "2022-01-17T16:38:12.018805Z",
     "iopub.status.busy": "2022-01-17T16:38:12.018447Z",
     "iopub.status.idle": "2022-01-17T16:38:12.337282Z",
     "shell.execute_reply": "2022-01-17T16:38:12.336551Z",
     "shell.execute_reply.started": "2022-01-17T16:38:12.018763Z"
    }
   },
   "outputs": [],
   "source": [
    "fig,ax=plt.subplots(1,1,figsize=(14,7))\n",
    "sns.heatmap(confusion_matrix(y_test_new,pred),ax=ax,xticklabels=labels,yticklabels=labels,annot=True,\n",
    "           cmap=colors_green[::-1],alpha=0.7,linewidths=2,linecolor=colors_dark[3])\n",
    "fig.text(s='Heatmap of the Confusion Matrix',size=18,fontweight='bold',\n",
    "             fontname='monospace',color=colors_dark[1],y=0.92,x=0.28,alpha=0.8)\n",
    "\n",
    "plt.show()"
   ]
  }
 ],
 "metadata": {
  "kernelspec": {
   "display_name": "Python 3",
   "language": "python",
   "name": "python3"
  },
  "language_info": {
   "codemirror_mode": {
    "name": "ipython",
    "version": 3
   },
   "file_extension": ".py",
   "mimetype": "text/x-python",
   "name": "python",
   "nbconvert_exporter": "python",
   "pygments_lexer": "ipython3",
   "version": "3.9.4"
  }
 },
 "nbformat": 4,
 "nbformat_minor": 4
}
